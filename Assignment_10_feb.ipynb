{
 "cells": [
  {
   "cell_type": "raw",
   "id": "6944d6fc-40a0-45fc-a4ec-95f92e463a49",
   "metadata": {},
   "source": [
    "Answer 1:\n",
    "read() function is used to open a file.\n",
    "DIFFERNT MODES :\n",
    "r Open a file for reading. (default)\n",
    "w Open a file for writing. Creates a new file if it does not exist or truncates the file if it exists.\n",
    "x Open a file for exclusive creation. If the file already exists, the operation fails.\n",
    "a Open a file for appending at the end of the file without truncating it. Creates a new file if it does not exist.\n",
    "t Open in text mode. (default)\n",
    "b Open in binary mode.\n",
    "'+' Open a file for updating (reading and writing)"
   ]
  },
  {
   "cell_type": "code",
   "execution_count": 1,
   "id": "add65ca8-57cf-45a1-a606-d508ec778af6",
   "metadata": {},
   "outputs": [],
   "source": [
    "f = open('test1.txt','w')"
   ]
  },
  {
   "cell_type": "code",
   "execution_count": 2,
   "id": "0fb6bcf6-e40a-4199-ac3c-e4700a752005",
   "metadata": {},
   "outputs": [
    {
     "data": {
      "text/plain": [
       "21"
      ]
     },
     "execution_count": 2,
     "metadata": {},
     "output_type": "execute_result"
    }
   ],
   "source": [
    "\n",
    "f.write(\"this is in write mode\")"
   ]
  },
  {
   "cell_type": "code",
   "execution_count": 3,
   "id": "c010ce90-8f60-4956-95ea-692ab4741e58",
   "metadata": {},
   "outputs": [],
   "source": [
    "\n",
    "f.close()"
   ]
  },
  {
   "cell_type": "code",
   "execution_count": 4,
   "id": "bbabd927-cebb-4a92-9ca7-63b0d811eb0e",
   "metadata": {},
   "outputs": [],
   "source": [
    "\n",
    "data = open('test1.txt','r')"
   ]
  },
  {
   "cell_type": "code",
   "execution_count": 5,
   "id": "698e6da9-4dec-4daf-9926-13335eda8d9e",
   "metadata": {},
   "outputs": [
    {
     "data": {
      "text/plain": [
       "'this is in write mode'"
      ]
     },
     "execution_count": 5,
     "metadata": {},
     "output_type": "execute_result"
    }
   ],
   "source": [
    "\n",
    "data.read()"
   ]
  },
  {
   "cell_type": "code",
   "execution_count": 6,
   "id": "041f5de2-ac45-4526-80e6-d944897c36a9",
   "metadata": {},
   "outputs": [],
   "source": [
    "\n",
    "f = open('test1.txt','a')"
   ]
  },
  {
   "cell_type": "code",
   "execution_count": 7,
   "id": "132d6668-d5f5-4c5c-931d-2452f6185fbc",
   "metadata": {},
   "outputs": [
    {
     "data": {
      "text/plain": [
       "12"
      ]
     },
     "execution_count": 7,
     "metadata": {},
     "output_type": "execute_result"
    }
   ],
   "source": [
    "f.write(\" append mode\")"
   ]
  },
  {
   "cell_type": "code",
   "execution_count": 8,
   "id": "22ae15b4-f553-4f07-88e5-89fb489496cd",
   "metadata": {},
   "outputs": [],
   "source": [
    "\n",
    "f.close()"
   ]
  },
  {
   "cell_type": "code",
   "execution_count": 9,
   "id": "4bba1496-2d95-4b5e-847c-a0f4618e2a09",
   "metadata": {},
   "outputs": [],
   "source": [
    "data = open('test1.txt','r')"
   ]
  },
  {
   "cell_type": "code",
   "execution_count": 10,
   "id": "8d7b35ee-9001-457b-b15b-9b78b4205341",
   "metadata": {},
   "outputs": [
    {
     "data": {
      "text/plain": [
       "'this is in write mode append mode'"
      ]
     },
     "execution_count": 10,
     "metadata": {},
     "output_type": "execute_result"
    }
   ],
   "source": [
    "data.read()"
   ]
  },
  {
   "cell_type": "raw",
   "id": "a0a6600b-7de2-4b73-9db1-cae495caca2e",
   "metadata": {},
   "source": [
    "Answer 2:\n",
    "The close() method closes an open file.\n",
    "If you open files and never close them in Python, you might not notice any difference, especially if you’re working on one-file scripts.\n",
    "You should always close your files, in some cases, due to buffering, changes made to a file may not show until you close the file."
   ]
  },
  {
   "cell_type": "code",
   "execution_count": 11,
   "id": "64755b41-c558-4387-a159-e65f1406359d",
   "metadata": {},
   "outputs": [],
   "source": [
    "## Answer 3:\n",
    "f = open('text.txt','w')"
   ]
  },
  {
   "cell_type": "code",
   "execution_count": 12,
   "id": "b4feb1e6-ba83-49d7-944d-a12096fc5a22",
   "metadata": {},
   "outputs": [
    {
     "data": {
      "text/plain": [
       "33"
      ]
     },
     "execution_count": 12,
     "metadata": {},
     "output_type": "execute_result"
    }
   ],
   "source": [
    "f.write(\"I want to become a Data Scientist\")"
   ]
  },
  {
   "cell_type": "code",
   "execution_count": 13,
   "id": "ca8c88ef-74d1-4628-94e5-ef07cb12463d",
   "metadata": {},
   "outputs": [],
   "source": [
    "f.close()\n"
   ]
  },
  {
   "cell_type": "code",
   "execution_count": 14,
   "id": "ddfc577e-f1ad-4bf8-adfc-2f5b5e253ed6",
   "metadata": {},
   "outputs": [],
   "source": [
    "f = open('text.txt','r')"
   ]
  },
  {
   "cell_type": "code",
   "execution_count": 15,
   "id": "b9148fc5-8dad-4f22-b40c-160969558791",
   "metadata": {},
   "outputs": [
    {
     "data": {
      "text/plain": [
       "'I want to become a Data Scientist'"
      ]
     },
     "execution_count": 15,
     "metadata": {},
     "output_type": "execute_result"
    }
   ],
   "source": [
    "f.read()"
   ]
  },
  {
   "cell_type": "code",
   "execution_count": 16,
   "id": "89bb362d-b2f0-404f-9b8b-10bc4835a7d3",
   "metadata": {},
   "outputs": [],
   "source": [
    "## Answer 4:\n",
    "f = open('test4.txt','w')"
   ]
  },
  {
   "cell_type": "code",
   "execution_count": 17,
   "id": "e9bf3342-aa64-4e7a-9cbd-580e65e5cd41",
   "metadata": {},
   "outputs": [
    {
     "data": {
      "text/plain": [
       "827"
      ]
     },
     "execution_count": 17,
     "metadata": {},
     "output_type": "execute_result"
    }
   ],
   "source": [
    "f.write('''Data scientists are a new breed of analytical data expert who have the technical skills to solve complex problems – and the curiosity to explore what problems need to be solved.\n",
    "\n",
    "They’re part mathematician, part computer scientist and part trend-spotter. And, because they straddle both the business and IT worlds, they’re highly sought-after and well-paid. Who wouldn’t want to be one?\n",
    "\n",
    "They’re also a sign of the times. Data scientists weren’t on many radars a decade ago, but their sudden popularity reflects how businesses now think about big data. That unwieldy mass of unstructured information can no longer be ignored and forgotten. It’s a virtual gold mine that helps boost revenue – as long as there’s someone who digs in and unearths business insights that no one thought to look for before. Enter the data scientist.''')\n",
    "   "
   ]
  },
  {
   "cell_type": "code",
   "execution_count": 18,
   "id": "eba71057-b8b7-4ae8-a327-f234804f803b",
   "metadata": {},
   "outputs": [],
   "source": [
    "f.close()"
   ]
  },
  {
   "cell_type": "code",
   "execution_count": 19,
   "id": "33b1919f-834d-4b73-890e-e618832ee599",
   "metadata": {},
   "outputs": [],
   "source": [
    "data = open('test4.txt','r')"
   ]
  },
  {
   "cell_type": "code",
   "execution_count": 20,
   "id": "f5758340-8210-4d55-97c7-00303312c469",
   "metadata": {},
   "outputs": [
    {
     "data": {
      "text/plain": [
       "['Data scientists are a new breed of analytical data expert who have the technical skills to solve complex problems – and the curiosity to explore what problems need to be solved.\\n',\n",
       " '\\n',\n",
       " 'They’re part mathematician, part computer scientist and part trend-spotter. And, because they straddle both the business and IT worlds, they’re highly sought-after and well-paid. Who wouldn’t want to be one?\\n',\n",
       " '\\n',\n",
       " 'They’re also a sign of the times. Data scientists weren’t on many radars a decade ago, but their sudden popularity reflects how businesses now think about big data. That unwieldy mass of unstructured information can no longer be ignored and forgotten. It’s a virtual gold mine that helps boost revenue – as long as there’s someone who digs in and unearths business insights that no one thought to look for before. Enter the data scientist.']"
      ]
     },
     "execution_count": 20,
     "metadata": {},
     "output_type": "execute_result"
    }
   ],
   "source": [
    "data.readlines()"
   ]
  },
  {
   "cell_type": "code",
   "execution_count": 21,
   "id": "332c9343-c5ae-4d1c-adfc-b8597bab2b0d",
   "metadata": {},
   "outputs": [
    {
     "data": {
      "text/plain": [
       "'Data scientists are a new breed of analytical data expert who have the technical skills to solve complex problems – and the curiosity to explore what problems need to be solved.\\n'"
      ]
     },
     "execution_count": 21,
     "metadata": {},
     "output_type": "execute_result"
    }
   ],
   "source": [
    "data.seek(0)\n",
    "data.readline()"
   ]
  },
  {
   "cell_type": "code",
   "execution_count": 22,
   "id": "a0ff39f4-6100-465d-8d9b-e5241cbeb0e3",
   "metadata": {},
   "outputs": [
    {
     "data": {
      "text/plain": [
       "'Data scientists are a new breed of analytical data expert who have the technical skills to solve complex problems – and the curiosity to explore what problems need to be solved.\\n\\nThey’re part mathematician, part computer scientist and part trend-spotter. And, because they straddle both the business and IT worlds, they’re highly sought-after and well-paid. Who wouldn’t want to be one?\\n\\nThey’re also a sign of the times. Data scientists weren’t on many radars a decade ago, but their sudden popularity reflects how businesses now think about big data. That unwieldy mass of unstructured information can no longer be ignored and forgotten. It’s a virtual gold mine that helps boost revenue – as long as there’s someone who digs in and unearths business insights that no one thought to look for before. Enter the data scientist.'"
      ]
     },
     "execution_count": 22,
     "metadata": {},
     "output_type": "execute_result"
    }
   ],
   "source": [
    "data.seek(0)\n",
    "data.read()"
   ]
  },
  {
   "cell_type": "markdown",
   "id": "3a394296-4fdb-4b50-a58f-6894c06adeb2",
   "metadata": {},
   "source": [
    "Answer 5:\n",
    "Unlike open() where you have to close the file with the close() method, the with statement closes the file for you without you telling it to.\n",
    "This is because the with statement calls 2 built-in methods behind the scene – enter() and exit().\n",
    "The exit() method closes the file when the operation you specify is done.\n"
   ]
  },
  {
   "cell_type": "code",
   "execution_count": 23,
   "id": "7cf7e897-621b-413e-862e-995e1b4fc75e",
   "metadata": {},
   "outputs": [],
   "source": [
    "with open('test5.txt','w') as f:\n",
    "  f.write('hello world\\n')\n",
    "  f.write('Ashwani Singh')"
   ]
  },
  {
   "cell_type": "code",
   "execution_count": 24,
   "id": "0e4230f9-8a49-42e0-b6ab-28eedf7ced45",
   "metadata": {},
   "outputs": [
    {
     "name": "stdout",
     "output_type": "stream",
     "text": [
      "hello world\n",
      "Ashwani Singh\n"
     ]
    }
   ],
   "source": [
    "with open('test5.txt','r') as f:\n",
    "  print(f.read())"
   ]
  },
  {
   "cell_type": "markdown",
   "id": "07bee26b-48ad-4956-814f-34ce88952249",
   "metadata": {},
   "source": [
    "Answer 6:\n",
    "The MAIN difference between the write() and writelines() is that write() is used to write a string to an already opened file while writelines() method is used to write a list of strings in an opened file."
   ]
  },
  {
   "cell_type": "code",
   "execution_count": 25,
   "id": "3e501f5d-b05b-4bc0-85a6-85b3c76daea1",
   "metadata": {},
   "outputs": [
    {
     "name": "stdin",
     "output_type": "stream",
     "text": [
      "Enter the name of the employee:  Ashwani\n",
      "Enter the name of the employee:  robo\n",
      "Enter the name of the employee:  boby\n"
     ]
    },
    {
     "name": "stdout",
     "output_type": "stream",
     "text": [
      "Data is written into the file.\n"
     ]
    }
   ],
   "source": [
    "file1 = open(\"test6.txt\", \"w\")\n",
    "lst = []\n",
    "for i in range(3):\n",
    "\tname = input(\"Enter the name of the employee: \")\n",
    "\tlst.append(name + '\\n')\n",
    "\t\n",
    "file1.writelines(lst)\n",
    "file1.close()\n",
    "print(\"Data is written into the file.\")"
   ]
  },
  {
   "cell_type": "code",
   "execution_count": 26,
   "id": "69da2db2-288c-418f-b2f9-f4836275296a",
   "metadata": {},
   "outputs": [
    {
     "name": "stdin",
     "output_type": "stream",
     "text": [
      "Enter the name of the employee:  ashwani\n",
      "Enter the name of the employee:  robo\n",
      "Enter the name of the employee:  amit\n"
     ]
    },
    {
     "name": "stdout",
     "output_type": "stream",
     "text": [
      "Data is written into the file.\n"
     ]
    }
   ],
   "source": [
    "file = open(\"test6_write.txt\", \"w\")\n",
    "\n",
    "for i in range(3):\n",
    "  name = input(\"Enter the name of the employee: \")\n",
    "  file.write(name)\n",
    "  file.write(\"\\n\")\n",
    "\t\n",
    "file.close()\n",
    "\n",
    "print(\"Data is written into the file.\")"
   ]
  },
  {
   "cell_type": "code",
   "execution_count": null,
   "id": "b487f84f-1d2d-4063-871b-1cd6e59dc228",
   "metadata": {},
   "outputs": [],
   "source": []
  }
 ],
 "metadata": {
  "kernelspec": {
   "display_name": "Python 3 (ipykernel)",
   "language": "python",
   "name": "python3"
  },
  "language_info": {
   "codemirror_mode": {
    "name": "ipython",
    "version": 3
   },
   "file_extension": ".py",
   "mimetype": "text/x-python",
   "name": "python",
   "nbconvert_exporter": "python",
   "pygments_lexer": "ipython3",
   "version": "3.10.8"
  }
 },
 "nbformat": 4,
 "nbformat_minor": 5
}
